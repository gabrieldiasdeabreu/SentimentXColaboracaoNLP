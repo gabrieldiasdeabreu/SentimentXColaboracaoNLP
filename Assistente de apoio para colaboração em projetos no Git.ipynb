{
 "cells": [
  {
   "cell_type": "markdown",
   "metadata": {},
   "source": [
    "# Usando SentiStrength\n",
    "\n",
    "## Api do sentistrength"
   ]
  },
  {
   "cell_type": "code",
   "execution_count": 55,
   "metadata": {},
   "outputs": [
    {
     "name": "stdout",
     "output_type": "stream",
     "text": [
      "3.7.0\n"
     ]
    }
   ],
   "source": [
    "import requests \n",
    "import re\n",
    "import json\n",
    "import pandas as pd\n",
    "import matplotlib.pyplot as plt\n",
    "import numpy as np\n",
    "\n",
    "import plotly\n",
    "import plotly.plotly as py\n",
    "print(plotly.__version__)  # version >1.9.4 required\n",
    "import plotly.graph_objs as go\n",
    "from plotly.graph_objs import Scatter, Layout\n"
   ]
  },
  {
   "cell_type": "code",
   "execution_count": 2,
   "metadata": {},
   "outputs": [],
   "source": [
    "def arrumaQuery(query):\n",
    "    ''' funcao auxiliar para arrumar a query'''\n",
    "    return query.replace(' ', '+').replace('\\n', '+')"
   ]
  },
  {
   "cell_type": "code",
   "execution_count": 3,
   "metadata": {},
   "outputs": [],
   "source": [
    "def retornaSentimentoComSentiStrength(query):\n",
    "    '''\n",
    "    funcao que avalia os sentimentos utilizando \n",
    "    o SentiStrength retornando os \n",
    "    resultados posivitos e negativos\n",
    "    '''\n",
    "    BaseUrl =  \"http://sentistrength.wlv.ac.uk\"\n",
    "\n",
    "    DOMAIN = \"AutoDetect\";\n",
    "    SUBMIT = \"Detect+Sentiment+in+Domain\"\n",
    "    \n",
    "    # monta URL\n",
    "    url = BaseUrl+'/results.php?domain='+DOMAIN+'&submit='+SUBMIT+'&text='+arrumaQuery(query)\n",
    "    \n",
    "#     print(url)\n",
    "    #requisita\n",
    "    r = requests.get(url = url)\n",
    "    \n",
    "    # usa regex para capturar nota\n",
    "    notaExpr = re.compile(r'has positive strength <b>.*</b> and negative strength <b>.*</b>')\n",
    "    textoFiltrado = re.findall(notaExpr, str(r.content))\n",
    "    pegaNotaPositiva = str(textoFiltrado).split('<b>')[1].split('</b>')[0]\n",
    "    pegaNotaNegativa = str(textoFiltrado).split('<b>')[2].split('</b>')[0]\n",
    "    \n",
    "    return {'NotaPositiva':int(pegaNotaPositiva), 'NotaNegativa':int(pegaNotaNegativa)}"
   ]
  },
  {
   "cell_type": "code",
   "execution_count": 4,
   "metadata": {},
   "outputs": [
    {
     "data": {
      "text/plain": [
       "{'NotaPositiva': 1, 'NotaNegativa': -4}"
      ]
     },
     "execution_count": 4,
     "metadata": {},
     "output_type": "execute_result"
    }
   ],
   "source": [
    "# retornaSentimentoComSentiStrength('this is a horrible idea')"
   ]
  },
  {
   "cell_type": "code",
   "execution_count": 5,
   "metadata": {
    "scrolled": true
   },
   "outputs": [],
   "source": [
    "# pd.DataFrame(columns=['autor', 'data', 'mensagem', 'NotaPos', 'NotaNeg'])\n",
    "json = None\n",
    "with open('exemplo.json', 'r') as arq:\n",
    "    json = arq.read()\n",
    "#     for commit in json.loads(arq.read()):\n",
    "# #         print(commit)\n",
    "#         nota = retornaSentimentoComSentiStrength(commit['mensagem'])\n",
    "# #         print('autor:', commit['autor'])\n",
    "# #         print('data:', commit['data'])\n",
    "# #         print('mensagem:', commit['mensagem'])\n",
    "# #         print('sentiment', nota)\n",
    "#         dados.append([\n",
    "#             commit['autor'],\n",
    "#             commit['data'],\n",
    "#             commit['mensagem'],\n",
    "#             nota['NotaPositiva'],\n",
    "#             nota['NotaNegativa']            \n",
    "#         ])"
   ]
  },
  {
   "cell_type": "code",
   "execution_count": 13,
   "metadata": {},
   "outputs": [],
   "source": [
    "def converteJsonParaDataFrame(json):\n",
    "    '''\n",
    "    Recebe um Json represantando um commit com os campos \n",
    "    commit['autor'],\n",
    "    commit['data'],\n",
    "    commit['mensagem'] e retorna um DataFrame para análise\n",
    "    '''\n",
    "    \n",
    "    dados = []\n",
    "    for commit in json.loads(json):\n",
    "        nota = retornaSentimentoComSentiStrength(commit['mensagem'])\n",
    "        dados.append([\n",
    "            commit['autor'],\n",
    "            commit['data'],\n",
    "            commit['mensagem'],\n",
    "            nota['NotaPositiva'],\n",
    "            nota['NotaNegativa']            \n",
    "        ])\n",
    "    dados = pd.DataFrame(dados, columns=['autor', 'data', 'mensagem', 'NotaPos', 'NotaNeg'])\n",
    "    dados.data = pd.to_datetime(dados.data)\n",
    "    dados = dados.set_index('data')\n",
    "\n",
    "def plotaGraficosSentimentoPorUsuario(dados):    \n",
    "    # itera por cada usuário identificado no Json\n",
    "    for grupo in dados.groupby('autor'):\n",
    "\n",
    "    url = plotly.offline.plot({\n",
    "        'data':[\n",
    "            go.Bar(\n",
    "                x=grupo[1].index, # assign x as the dataframe column 'x'\n",
    "                y=grupo[1]['NotaPos'],\n",
    "                name='Positive Sentiment'\n",
    "            ),\n",
    "            go.Bar(\n",
    "                x=grupo[1].index, # assign x as the dataframe column 'x'\n",
    "                y=grupo[1]['NotaNeg'],\n",
    "                name='Negative Sentiment'\n",
    "            )\n",
    "        ],\n",
    "        \"layout\": Layout(\n",
    "            title=grupo[0],\n",
    "            xaxis=dict(title='Commit Data'),\n",
    "            yaxis=dict(title='Sentiment Polarity'),\n",
    "            \n",
    "        )\n",
    "    }, filename='graphs/linePlot'+grupo[0]+'.html')\n"
   ]
  },
  {
   "cell_type": "code",
   "execution_count": 65,
   "metadata": {},
   "outputs": [],
   "source": [
    "# dados.sort_index()[['NotaPos','NotaNeg', 'mensagem', 'autor']].to_csv('saida_Codigo.csv')\n",
    "# dados.describe().to_csv('analiseSaida.csv')"
   ]
  },
  {
   "cell_type": "code",
   "execution_count": 66,
   "metadata": {},
   "outputs": [],
   "source": [
    "# dados"
   ]
  },
  {
   "cell_type": "code",
   "execution_count": 64,
   "metadata": {
    "scrolled": true
   },
   "outputs": [],
   "source": [
    "\n",
    "    \n",
    "#     plt.title(grupo[0])\n",
    "\n",
    "#     plt.ylim((-5, 5))\n",
    "#     grupo.plot()\n"
   ]
  },
  {
   "cell_type": "code",
   "execution_count": null,
   "metadata": {},
   "outputs": [],
   "source": []
  }
 ],
 "metadata": {
  "kernelspec": {
   "display_name": "Python 3",
   "language": "python",
   "name": "python3"
  },
  "language_info": {
   "codemirror_mode": {
    "name": "ipython",
    "version": 3
   },
   "file_extension": ".py",
   "mimetype": "text/x-python",
   "name": "python",
   "nbconvert_exporter": "python",
   "pygments_lexer": "ipython3",
   "version": "3.6.8"
  }
 },
 "nbformat": 4,
 "nbformat_minor": 2
}
