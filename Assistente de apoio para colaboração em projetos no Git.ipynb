{
 "cells": [
  {
   "cell_type": "markdown",
   "metadata": {},
   "source": [
    "# Usando SentiStrength\n",
    "\n",
    "## Api do sentistrength"
   ]
  },
  {
   "cell_type": "code",
   "execution_count": 31,
   "metadata": {},
   "outputs": [],
   "source": [
    "import requests \n",
    "import re\n",
    "import json\n",
    "import pandas as pd"
   ]
  },
  {
   "cell_type": "code",
   "execution_count": 23,
   "metadata": {},
   "outputs": [],
   "source": [
    "def arrumaQuery(query):\n",
    "    ''' funcao auxiliar para arrumar a query'''\n",
    "    return query.replace(' ', '+').replace('\\n', '+')"
   ]
  },
  {
   "cell_type": "code",
   "execution_count": 27,
   "metadata": {},
   "outputs": [],
   "source": [
    "def retornaSentimentoComSentiStrength(query):\n",
    "    '''funcao que avalia os sentimentos utilizando \n",
    "    o SentiStrength retornando os \n",
    "    resultados posivitos e negativos'''\n",
    "    BaseUrl =  \"http://sentistrength.wlv.ac.uk\"\n",
    "\n",
    "    DOMAIN = \"AutoDetect\";\n",
    "    SUBMIT = \"Detect+Sentiment+in+Domain\"\n",
    "    \n",
    "    # monta URL\n",
    "    url = BaseUrl+'/results.php?domain='+DOMAIN+'&submit='+SUBMIT+'&text='+arrumaQuery(query)\n",
    "    \n",
    "#     print(url)\n",
    "    #requisita\n",
    "    r = requests.get(url = url)\n",
    "    \n",
    "    # usa regex para capturar nota\n",
    "    notaExpr = re.compile(r'has positive strength <b>.*</b> and negative strength <b>.*</b>')\n",
    "    textoFiltrado = re.findall(notaExpr, str(r.content))\n",
    "    pegaNotaPositiva = str(textoFiltrado).split('<b>')[1].split('</b>')[0]\n",
    "    pegaNotaNegativa = str(textoFiltrado).split('<b>')[2].split('</b>')[0]\n",
    "    \n",
    "    return {'NotaPositiva':int(pegaNotaPositiva), 'NotaNegativa':int(pegaNotaNegativa)}"
   ]
  },
  {
   "cell_type": "code",
   "execution_count": 28,
   "metadata": {},
   "outputs": [
    {
     "data": {
      "text/plain": [
       "{'NotaPositiva': 1, 'NotaNegativa': -4}"
      ]
     },
     "execution_count": 28,
     "metadata": {},
     "output_type": "execute_result"
    }
   ],
   "source": [
    "retornaSentimentoComSentiStrength('this is a horrible idea')"
   ]
  },
  {
   "cell_type": "code",
   "execution_count": 49,
   "metadata": {
    "scrolled": true
   },
   "outputs": [],
   "source": [
    "dados = []\n",
    "# pd.DataFrame(columns=['autor', 'data', 'mensagem', 'NotaPos', 'NotaNeg'])\n",
    "with open('exemplo.json', 'r') as arq:\n",
    "    for commit in json.loads(arq.read()):\n",
    "#         print(commit)\n",
    "        nota = retornaSentimentoComSentiStrength(commit['mensagem'])\n",
    "#         print('autor:', commit['autor'])\n",
    "#         print('data:', commit['data'])\n",
    "#         print('mensagem:', commit['mensagem'])\n",
    "#         print('sentiment', nota)\n",
    "        dados.append([\n",
    "            commit['autor'],\n",
    "            commit['data'],\n",
    "            commit['mensagem'],\n",
    "            nota['NotaPositiva'],\n",
    "            nota['NotaNegativa']            \n",
    "        ])"
   ]
  },
  {
   "cell_type": "code",
   "execution_count": 60,
   "metadata": {},
   "outputs": [],
   "source": [
    "dados = pd.DataFrame(dados, columns=['autor', 'data', 'mensagem', 'NotaPos', 'NotaNeg']).set_index('autor')"
   ]
  },
  {
   "cell_type": "code",
   "execution_count": 65,
   "metadata": {},
   "outputs": [],
   "source": [
    "dados.sort_index()[['NotaPos','NotaNeg', 'mensagem', 'data']].to_csv('saida_Codigo.csv')"
   ]
  },
  {
   "cell_type": "code",
   "execution_count": null,
   "metadata": {},
   "outputs": [],
   "source": []
  }
 ],
 "metadata": {
  "kernelspec": {
   "display_name": "Python 3",
   "language": "python",
   "name": "python3"
  },
  "language_info": {
   "codemirror_mode": {
    "name": "ipython",
    "version": 3
   },
   "file_extension": ".py",
   "mimetype": "text/x-python",
   "name": "python",
   "nbconvert_exporter": "python",
   "pygments_lexer": "ipython3",
   "version": "3.6.8"
  }
 },
 "nbformat": 4,
 "nbformat_minor": 2
}
